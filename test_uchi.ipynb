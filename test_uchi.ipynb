{
  "nbformat": 4,
  "nbformat_minor": 0,
  "metadata": {
    "colab": {
      "name": "test_uchi.ipynb",
      "provenance": []
    },
    "kernelspec": {
      "name": "python3",
      "display_name": "Python 3"
    }
  },
  "cells": [
    {
      "cell_type": "code",
      "metadata": {
        "id": "taDo0RG173d8",
        "colab": {
          "base_uri": "https://localhost:8080/"
        },
        "outputId": "53c72872-01f6-4308-f2d5-2182b12db44f"
      },
      "source": [
        "from google.colab import drive\n",
        "drive.mount('/content/gdrive')"
      ],
      "execution_count": 1,
      "outputs": [
        {
          "output_type": "stream",
          "text": [
            "Mounted at /content/gdrive\n"
          ],
          "name": "stdout"
        }
      ]
    },
    {
      "cell_type": "code",
      "metadata": {
        "id": "vYpvlhrN8BoF"
      },
      "source": [
        "import pandas as pd\n",
        "import numpy as np\n",
        "\n",
        "from matplotlib import pyplot as plt\n",
        "%matplotlib inline"
      ],
      "execution_count": 2,
      "outputs": []
    },
    {
      "cell_type": "markdown",
      "metadata": {
        "id": "J2mwSyS_8Gwf"
      },
      "source": [
        "файл с информацией о принадлежности пользователя к контрольной или экспериментальной группе (А – контроль, B – целевая группа) "
      ]
    },
    {
      "cell_type": "code",
      "metadata": {
        "id": "G05e3ss18GLT",
        "colab": {
          "base_uri": "https://localhost:8080/",
          "height": 233
        },
        "outputId": "73785ba5-bfa5-4900-e161-273e29989ab6"
      },
      "source": [
        "groups = pd.read_csv('gdrive/My Drive/Colab Notebooks/uchi/groups.csv', sep=';',index_col='id')\n",
        "groups.sort_values(by ='id').head()"
      ],
      "execution_count": 4,
      "outputs": [
        {
          "output_type": "execute_result",
          "data": {
            "text/html": [
              "<div>\n",
              "<style scoped>\n",
              "    .dataframe tbody tr th:only-of-type {\n",
              "        vertical-align: middle;\n",
              "    }\n",
              "\n",
              "    .dataframe tbody tr th {\n",
              "        vertical-align: top;\n",
              "    }\n",
              "\n",
              "    .dataframe thead th {\n",
              "        text-align: right;\n",
              "    }\n",
              "</style>\n",
              "<table border=\"1\" class=\"dataframe\">\n",
              "  <thead>\n",
              "    <tr style=\"text-align: right;\">\n",
              "      <th></th>\n",
              "      <th>grp</th>\n",
              "    </tr>\n",
              "    <tr>\n",
              "      <th>id</th>\n",
              "      <th></th>\n",
              "    </tr>\n",
              "  </thead>\n",
              "  <tbody>\n",
              "    <tr>\n",
              "      <th>1489</th>\n",
              "      <td>B</td>\n",
              "    </tr>\n",
              "    <tr>\n",
              "      <th>1627</th>\n",
              "      <td>A</td>\n",
              "    </tr>\n",
              "    <tr>\n",
              "      <th>1768</th>\n",
              "      <td>B</td>\n",
              "    </tr>\n",
              "    <tr>\n",
              "      <th>1783</th>\n",
              "      <td>B</td>\n",
              "    </tr>\n",
              "    <tr>\n",
              "      <th>1794</th>\n",
              "      <td>A</td>\n",
              "    </tr>\n",
              "  </tbody>\n",
              "</table>\n",
              "</div>"
            ],
            "text/plain": [
              "     grp\n",
              "id      \n",
              "1489   B\n",
              "1627   A\n",
              "1768   B\n",
              "1783   B\n",
              "1794   A"
            ]
          },
          "metadata": {
            "tags": []
          },
          "execution_count": 4
        }
      ]
    },
    {
      "cell_type": "code",
      "metadata": {
        "id": "zocmX1zo8J3Z",
        "colab": {
          "base_uri": "https://localhost:8080/"
        },
        "outputId": "271d4d74-6cad-48c5-9f21-83e8bbd9a16b"
      },
      "source": [
        "groups.shape"
      ],
      "execution_count": 5,
      "outputs": [
        {
          "output_type": "execute_result",
          "data": {
            "text/plain": [
              "(74576, 1)"
            ]
          },
          "metadata": {
            "tags": []
          },
          "execution_count": 5
        }
      ]
    },
    {
      "cell_type": "markdown",
      "metadata": {
        "id": "YM7LzB8Q8PJC"
      },
      "source": [
        "Количество человек в контрольной А-группе и целевой В-группе"
      ]
    },
    {
      "cell_type": "code",
      "metadata": {
        "id": "vtOnlemR8RGJ",
        "colab": {
          "base_uri": "https://localhost:8080/"
        },
        "outputId": "a9cf4f11-55e1-4eb1-eb99-f4db888980b0"
      },
      "source": [
        "groups.grp.value_counts()*100/groups.shape[0]"
      ],
      "execution_count": 6,
      "outputs": [
        {
          "output_type": "execute_result",
          "data": {
            "text/plain": [
              "B    80.297951\n",
              "A    19.702049\n",
              "Name: grp, dtype: float64"
            ]
          },
          "metadata": {
            "tags": []
          },
          "execution_count": 6
        }
      ]
    },
    {
      "cell_type": "code",
      "metadata": {
        "id": "-m-8FHTJ8UuT",
        "colab": {
          "base_uri": "https://localhost:8080/",
          "height": 287
        },
        "outputId": "defee5d1-0c1d-4b72-adab-48ca2c0444d3"
      },
      "source": [
        "groups.value_counts().plot(kind='bar', label='Group');"
      ],
      "execution_count": 7,
      "outputs": [
        {
          "output_type": "display_data",
          "data": {
            "image/png": "[encoded data removed]",
            "text/plain": [
              "<Figure size 432x288 with 1 Axes>"
            ]
          },
          "metadata": {
            "tags": [],
            "needs_background": "light"
          }
        }
      ]
    },
    {
      "cell_type": "markdown",
      "metadata": {
        "id": "1J2JOZuR8bvt"
      },
      "source": [
        "обычно на практике встречал разделение на две примерно равные группы\n"
      ]
    },
    {
      "cell_type": "markdown",
      "metadata": {
        "id": "p9lY5E0w8yB-"
      },
      "source": [
        " файл с информацией о пользователях, которые зашли на платформу в дни проведения эксперимента. "
      ]
    },
    {
      "cell_type": "code",
      "metadata": {
        "id": "YxGhPFuE8xvZ",
        "colab": {
          "base_uri": "https://localhost:8080/",
          "height": 202
        },
        "outputId": "fe466b83-ac7f-4ba1-f003-fea609f84732"
      },
      "source": [
        "active_studs = pd.read_csv('gdrive/My Drive/Colab Notebooks/uchi/active_studs.csv', sep=';')\n",
        "active_studs.sort_values(by ='student_id').head()"
      ],
      "execution_count": 8,
      "outputs": [
        {
          "output_type": "execute_result",
          "data": {
            "text/html": [
              "<div>\n",
              "<style scoped>\n",
              "    .dataframe tbody tr th:only-of-type {\n",
              "        vertical-align: middle;\n",
              "    }\n",
              "\n",
              "    .dataframe tbody tr th {\n",
              "        vertical-align: top;\n",
              "    }\n",
              "\n",
              "    .dataframe thead th {\n",
              "        text-align: right;\n",
              "    }\n",
              "</style>\n",
              "<table border=\"1\" class=\"dataframe\">\n",
              "  <thead>\n",
              "    <tr style=\"text-align: right;\">\n",
              "      <th></th>\n",
              "      <th>student_id</th>\n",
              "    </tr>\n",
              "  </thead>\n",
              "  <tbody>\n",
              "    <tr>\n",
              "      <th>4412</th>\n",
              "      <td>1627</td>\n",
              "    </tr>\n",
              "    <tr>\n",
              "      <th>7887</th>\n",
              "      <td>2085</td>\n",
              "    </tr>\n",
              "    <tr>\n",
              "      <th>3144</th>\n",
              "      <td>2215</td>\n",
              "    </tr>\n",
              "    <tr>\n",
              "      <th>3040</th>\n",
              "      <td>3391</td>\n",
              "    </tr>\n",
              "    <tr>\n",
              "      <th>3851</th>\n",
              "      <td>3401</td>\n",
              "    </tr>\n",
              "  </tbody>\n",
              "</table>\n",
              "</div>"
            ],
            "text/plain": [
              "      student_id\n",
              "4412        1627\n",
              "7887        2085\n",
              "3144        2215\n",
              "3040        3391\n",
              "3851        3401"
            ]
          },
          "metadata": {
            "tags": []
          },
          "execution_count": 8
        }
      ]
    },
    {
      "cell_type": "code",
      "metadata": {
        "id": "xRXGT_wx889j",
        "colab": {
          "base_uri": "https://localhost:8080/"
        },
        "outputId": "8f9b44d6-c944-4d82-9aa2-bb831d5b254b"
      },
      "source": [
        "active_studs.student_id.nunique()"
      ],
      "execution_count": 9,
      "outputs": [
        {
          "output_type": "execute_result",
          "data": {
            "text/plain": [
              "8341"
            ]
          },
          "metadata": {
            "tags": []
          },
          "execution_count": 9
        }
      ]
    },
    {
      "cell_type": "markdown",
      "metadata": {
        "id": "9QFdZBRH9B8t"
      },
      "source": [
        "файл с информацией об оплатах пользователей в дни проведения эксперимента. "
      ]
    },
    {
      "cell_type": "code",
      "metadata": {
        "id": "oKQmKJmm9CaP",
        "colab": {
          "base_uri": "https://localhost:8080/",
          "height": 202
        },
        "outputId": "c66bb10a-470f-450d-c1cc-9e97eaa10219"
      },
      "source": [
        "checks = pd.read_csv('gdrive/My Drive/Colab Notebooks/uchi/checks.csv', sep=';')\n",
        "checks.sort_values(by ='student_id').head()"
      ],
      "execution_count": 10,
      "outputs": [
        {
          "output_type": "execute_result",
          "data": {
            "text/html": [
              "<div>\n",
              "<style scoped>\n",
              "    .dataframe tbody tr th:only-of-type {\n",
              "        vertical-align: middle;\n",
              "    }\n",
              "\n",
              "    .dataframe tbody tr th {\n",
              "        vertical-align: top;\n",
              "    }\n",
              "\n",
              "    .dataframe thead th {\n",
              "        text-align: right;\n",
              "    }\n",
              "</style>\n",
              "<table border=\"1\" class=\"dataframe\">\n",
              "  <thead>\n",
              "    <tr style=\"text-align: right;\">\n",
              "      <th></th>\n",
              "      <th>student_id</th>\n",
              "      <th>rev</th>\n",
              "    </tr>\n",
              "  </thead>\n",
              "  <tbody>\n",
              "    <tr>\n",
              "      <th>0</th>\n",
              "      <td>1627</td>\n",
              "      <td>990.0</td>\n",
              "    </tr>\n",
              "    <tr>\n",
              "      <th>1</th>\n",
              "      <td>3185</td>\n",
              "      <td>690.0</td>\n",
              "    </tr>\n",
              "    <tr>\n",
              "      <th>2</th>\n",
              "      <td>25973</td>\n",
              "      <td>690.0</td>\n",
              "    </tr>\n",
              "    <tr>\n",
              "      <th>3</th>\n",
              "      <td>26280</td>\n",
              "      <td>690.0</td>\n",
              "    </tr>\n",
              "    <tr>\n",
              "      <th>4</th>\n",
              "      <td>100300</td>\n",
              "      <td>990.0</td>\n",
              "    </tr>\n",
              "  </tbody>\n",
              "</table>\n",
              "</div>"
            ],
            "text/plain": [
              "   student_id    rev\n",
              "0        1627  990.0\n",
              "1        3185  690.0\n",
              "2       25973  690.0\n",
              "3       26280  690.0\n",
              "4      100300  990.0"
            ]
          },
          "metadata": {
            "tags": []
          },
          "execution_count": 10
        }
      ]
    },
    {
      "cell_type": "code",
      "metadata": {
        "id": "ne_a5EVM9GvT",
        "colab": {
          "base_uri": "https://localhost:8080/"
        },
        "outputId": "97ecff51-0909-402c-9796-c48d6427a1f6"
      },
      "source": [
        "checks.student_id.nunique()"
      ],
      "execution_count": 11,
      "outputs": [
        {
          "output_type": "execute_result",
          "data": {
            "text/plain": [
              "541"
            ]
          },
          "metadata": {
            "tags": []
          },
          "execution_count": 11
        }
      ]
    },
    {
      "cell_type": "markdown",
      "metadata": {
        "id": "mhQYueP99L1L"
      },
      "source": [
        "количесвто пользователей, заходивших на платформы в дни проведения эксперимента = 8341 \n",
        "\n",
        "сколько человек оплачивало в контрольный период = 541 "
      ]
    },
    {
      "cell_type": "markdown",
      "metadata": {
        "id": "W0EoNiot8laJ"
      },
      "source": [
        "объединим таблицы с данными по группам и данными по id юзеров\n"
      ]
    },
    {
      "cell_type": "markdown",
      "metadata": {
        "id": "4tXOsS7h9ZSL"
      },
      "source": [
        "объединим таблицы с id пользователей разделенных на группы и таблицей транзакций"
      ]
    },
    {
      "cell_type": "code",
      "metadata": {
        "id": "p32Xj1nq9YKH",
        "colab": {
          "base_uri": "https://localhost:8080/",
          "height": 202
        },
        "outputId": "e510fca7-2513-4047-b186-9244f9b0da15"
      },
      "source": [
        "groups_check = groups.merge(checks, left_on='id', right_on='student_id', sort = True)\n",
        "groups_check.head()"
      ],
      "execution_count": 12,
      "outputs": [
        {
          "output_type": "execute_result",
          "data": {
            "text/html": [
              "<div>\n",
              "<style scoped>\n",
              "    .dataframe tbody tr th:only-of-type {\n",
              "        vertical-align: middle;\n",
              "    }\n",
              "\n",
              "    .dataframe tbody tr th {\n",
              "        vertical-align: top;\n",
              "    }\n",
              "\n",
              "    .dataframe thead th {\n",
              "        text-align: right;\n",
              "    }\n",
              "</style>\n",
              "<table border=\"1\" class=\"dataframe\">\n",
              "  <thead>\n",
              "    <tr style=\"text-align: right;\">\n",
              "      <th></th>\n",
              "      <th>grp</th>\n",
              "      <th>student_id</th>\n",
              "      <th>rev</th>\n",
              "    </tr>\n",
              "  </thead>\n",
              "  <tbody>\n",
              "    <tr>\n",
              "      <th>0</th>\n",
              "      <td>A</td>\n",
              "      <td>1627</td>\n",
              "      <td>990.0</td>\n",
              "    </tr>\n",
              "    <tr>\n",
              "      <th>1</th>\n",
              "      <td>B</td>\n",
              "      <td>3185</td>\n",
              "      <td>690.0</td>\n",
              "    </tr>\n",
              "    <tr>\n",
              "      <th>2</th>\n",
              "      <td>B</td>\n",
              "      <td>25973</td>\n",
              "      <td>690.0</td>\n",
              "    </tr>\n",
              "    <tr>\n",
              "      <th>3</th>\n",
              "      <td>B</td>\n",
              "      <td>26280</td>\n",
              "      <td>690.0</td>\n",
              "    </tr>\n",
              "    <tr>\n",
              "      <th>4</th>\n",
              "      <td>B</td>\n",
              "      <td>100300</td>\n",
              "      <td>990.0</td>\n",
              "    </tr>\n",
              "  </tbody>\n",
              "</table>\n",
              "</div>"
            ],
            "text/plain": [
              "  grp  student_id    rev\n",
              "0   A        1627  990.0\n",
              "1   B        3185  690.0\n",
              "2   B       25973  690.0\n",
              "3   B       26280  690.0\n",
              "4   B      100300  990.0"
            ]
          },
          "metadata": {
            "tags": []
          },
          "execution_count": 12
        }
      ]
    },
    {
      "cell_type": "markdown",
      "metadata": {
        "id": "9H7pby1U9zBt"
      },
      "source": [
        "а теперь объединим полученную таблицу с таблицей данных об активных в момент проведения теста юзерах"
      ]
    },
    {
      "cell_type": "code",
      "metadata": {
        "id": "OVtOCqoV8XEd",
        "colab": {
          "base_uri": "https://localhost:8080/",
          "height": 202
        },
        "outputId": "b7f74123-f4ec-4ffa-be59-db6d32fb2d6a"
      },
      "source": [
        "active_studs_checks = active_studs.merge(groups_check, left_on='student_id', right_on='student_id', sort = True)\n",
        "active_studs_checks.head()"
      ],
      "execution_count": 13,
      "outputs": [
        {
          "output_type": "execute_result",
          "data": {
            "text/html": [
              "<div>\n",
              "<style scoped>\n",
              "    .dataframe tbody tr th:only-of-type {\n",
              "        vertical-align: middle;\n",
              "    }\n",
              "\n",
              "    .dataframe tbody tr th {\n",
              "        vertical-align: top;\n",
              "    }\n",
              "\n",
              "    .dataframe thead th {\n",
              "        text-align: right;\n",
              "    }\n",
              "</style>\n",
              "<table border=\"1\" class=\"dataframe\">\n",
              "  <thead>\n",
              "    <tr style=\"text-align: right;\">\n",
              "      <th></th>\n",
              "      <th>student_id</th>\n",
              "      <th>grp</th>\n",
              "      <th>rev</th>\n",
              "    </tr>\n",
              "  </thead>\n",
              "  <tbody>\n",
              "    <tr>\n",
              "      <th>0</th>\n",
              "      <td>1627</td>\n",
              "      <td>A</td>\n",
              "      <td>990.0000</td>\n",
              "    </tr>\n",
              "    <tr>\n",
              "      <th>1</th>\n",
              "      <td>100300</td>\n",
              "      <td>B</td>\n",
              "      <td>990.0000</td>\n",
              "    </tr>\n",
              "    <tr>\n",
              "      <th>2</th>\n",
              "      <td>108270</td>\n",
              "      <td>B</td>\n",
              "      <td>290.0000</td>\n",
              "    </tr>\n",
              "    <tr>\n",
              "      <th>3</th>\n",
              "      <td>264473</td>\n",
              "      <td>B</td>\n",
              "      <td>1900.0001</td>\n",
              "    </tr>\n",
              "    <tr>\n",
              "      <th>4</th>\n",
              "      <td>274352</td>\n",
              "      <td>B</td>\n",
              "      <td>690.0000</td>\n",
              "    </tr>\n",
              "  </tbody>\n",
              "</table>\n",
              "</div>"
            ],
            "text/plain": [
              "   student_id grp        rev\n",
              "0        1627   A   990.0000\n",
              "1      100300   B   990.0000\n",
              "2      108270   B   290.0000\n",
              "3      264473   B  1900.0001\n",
              "4      274352   B   690.0000"
            ]
          },
          "metadata": {
            "tags": []
          },
          "execution_count": 13
        }
      ]
    },
    {
      "cell_type": "code",
      "metadata": {
        "id": "zeCOYf0n988T",
        "colab": {
          "base_uri": "https://localhost:8080/"
        },
        "outputId": "b02d72e6-583d-4157-e955-8aaf09bf085f"
      },
      "source": [
        "active_studs_checks.shape"
      ],
      "execution_count": 14,
      "outputs": [
        {
          "output_type": "execute_result",
          "data": {
            "text/plain": [
              "(392, 3)"
            ]
          },
          "metadata": {
            "tags": []
          },
          "execution_count": 14
        }
      ]
    },
    {
      "cell_type": "code",
      "metadata": {
        "id": "wxoYiwDN-FNi",
        "colab": {
          "base_uri": "https://localhost:8080/"
        },
        "outputId": "959ad9d8-f96f-4e39-8f21-d1710e105066"
      },
      "source": [
        "active_studs_checks.grp.value_counts()"
      ],
      "execution_count": 15,
      "outputs": [
        {
          "output_type": "execute_result",
          "data": {
            "text/plain": [
              "B    314\n",
              "A     78\n",
              "Name: grp, dtype: int64"
            ]
          },
          "metadata": {
            "tags": []
          },
          "execution_count": 15
        }
      ]
    },
    {
      "cell_type": "markdown",
      "metadata": {
        "id": "2wBw6oa8_A1t"
      },
      "source": [
        "также сделаем таблицу, где вместе id активных во время теста юзеров и их принадлежность к группам"
      ]
    },
    {
      "cell_type": "code",
      "metadata": {
        "id": "jO_3RZ7T-_-v",
        "colab": {
          "base_uri": "https://localhost:8080/",
          "height": 202
        },
        "outputId": "0353862e-b5ca-4a7f-871b-f3355bbfa045"
      },
      "source": [
        "active_studs_groups = active_studs.merge(groups, left_on='student_id', right_on='id', sort = True)\n",
        "active_studs_groups.head()"
      ],
      "execution_count": 16,
      "outputs": [
        {
          "output_type": "execute_result",
          "data": {
            "text/html": [
              "<div>\n",
              "<style scoped>\n",
              "    .dataframe tbody tr th:only-of-type {\n",
              "        vertical-align: middle;\n",
              "    }\n",
              "\n",
              "    .dataframe tbody tr th {\n",
              "        vertical-align: top;\n",
              "    }\n",
              "\n",
              "    .dataframe thead th {\n",
              "        text-align: right;\n",
              "    }\n",
              "</style>\n",
              "<table border=\"1\" class=\"dataframe\">\n",
              "  <thead>\n",
              "    <tr style=\"text-align: right;\">\n",
              "      <th></th>\n",
              "      <th>student_id</th>\n",
              "      <th>grp</th>\n",
              "    </tr>\n",
              "  </thead>\n",
              "  <tbody>\n",
              "    <tr>\n",
              "      <th>0</th>\n",
              "      <td>1627</td>\n",
              "      <td>A</td>\n",
              "    </tr>\n",
              "    <tr>\n",
              "      <th>1</th>\n",
              "      <td>2085</td>\n",
              "      <td>B</td>\n",
              "    </tr>\n",
              "    <tr>\n",
              "      <th>2</th>\n",
              "      <td>2215</td>\n",
              "      <td>B</td>\n",
              "    </tr>\n",
              "    <tr>\n",
              "      <th>3</th>\n",
              "      <td>3391</td>\n",
              "      <td>A</td>\n",
              "    </tr>\n",
              "    <tr>\n",
              "      <th>4</th>\n",
              "      <td>3401</td>\n",
              "      <td>B</td>\n",
              "    </tr>\n",
              "  </tbody>\n",
              "</table>\n",
              "</div>"
            ],
            "text/plain": [
              "   student_id grp\n",
              "0        1627   A\n",
              "1        2085   B\n",
              "2        2215   B\n",
              "3        3391   A\n",
              "4        3401   B"
            ]
          },
          "metadata": {
            "tags": []
          },
          "execution_count": 16
        }
      ]
    },
    {
      "cell_type": "code",
      "metadata": {
        "id": "kCKEp3XC_WYa",
        "colab": {
          "base_uri": "https://localhost:8080/"
        },
        "outputId": "c71de915-275e-408e-d9c8-1711fe1a0682"
      },
      "source": [
        "active_studs_groups.shape"
      ],
      "execution_count": 17,
      "outputs": [
        {
          "output_type": "execute_result",
          "data": {
            "text/plain": [
              "(8341, 2)"
            ]
          },
          "metadata": {
            "tags": []
          },
          "execution_count": 17
        }
      ]
    },
    {
      "cell_type": "code",
      "metadata": {
        "id": "Ui3MhXzqM1M5",
        "colab": {
          "base_uri": "https://localhost:8080/"
        },
        "outputId": "507742da-0fe9-4a4a-8d80-8f31d2bbd6df"
      },
      "source": [
        "active_studs_groups.grp.value_counts()"
      ],
      "execution_count": 18,
      "outputs": [
        {
          "output_type": "execute_result",
          "data": {
            "text/plain": [
              "B    6803\n",
              "A    1538\n",
              "Name: grp, dtype: int64"
            ]
          },
          "metadata": {
            "tags": []
          },
          "execution_count": 18
        }
      ]
    },
    {
      "cell_type": "markdown",
      "metadata": {
        "id": "hFfOqwy3_xGb"
      },
      "source": [
        "**На какие метрики Вы смотрите в ходе анализа и почему?**\n",
        "\n",
        "Посмотрим на размер среднего чека для групп, также посмотрим на долю пользователей с оплатами из общего числа отнесенных к группам\n",
        "\n",
        "Мы хотим увидеть увеличение среднего чека в целевой группе\n",
        "\n",
        "Также необходимо проконтролировать увеличилось ли число юзеров с транзакциями \n",
        "в целевой группе"
      ]
    },
    {
      "cell_type": "markdown",
      "metadata": {
        "id": "Ten0K-zK-LzJ"
      },
      "source": [
        "процент юзеров из обеих групп, что были активны в период теста и у них были \n",
        "транзакции"
      ]
    },
    {
      "cell_type": "code",
      "metadata": {
        "id": "DA1LOADs-LTg",
        "colab": {
          "base_uri": "https://localhost:8080/"
        },
        "outputId": "68bb472a-b1ce-4a70-c7d0-3ab71c865e84"
      },
      "source": [
        "(active_studs_checks.grp.value_counts())*100/(active_studs_groups.grp.value_counts())"
      ],
      "execution_count": 19,
      "outputs": [
        {
          "output_type": "execute_result",
          "data": {
            "text/plain": [
              "B    4.615611\n",
              "A    5.071521\n",
              "Name: grp, dtype: float64"
            ]
          },
          "metadata": {
            "tags": []
          },
          "execution_count": 19
        }
      ]
    },
    {
      "cell_type": "code",
      "metadata": {
        "id": "FmH45oM2MwzE"
      },
      "source": [
        "num_a, num_b = 1538, 6803\n",
        "click_a, click_b = 78, 314\n",
        "rate_a, rate_b = click_a / num_a, click_b / num_b"
      ],
      "execution_count": 20,
      "outputs": []
    },
    {
      "cell_type": "markdown",
      "metadata": {
        "id": "49I4vTVYM9ol"
      },
      "source": [
        "построим распределения для обеих групп, сначала биноминальное, а затем и нормальное"
      ]
    },
    {
      "cell_type": "code",
      "metadata": {
        "id": "Y5s4gznWM9E8",
        "colab": {
          "base_uri": "https://localhost:8080/",
          "height": 279
        },
        "outputId": "d5b88bfd-475f-4487-9ab7-c2e19e220dab"
      },
      "source": [
        "from scipy.stats import binom\n",
        "import numpy as np\n",
        "\n",
        "# вероятность\n",
        "clicks = np.arange(30, 400)\n",
        "prob_a = binom(num_a, rate_a).pmf(clicks)\n",
        "prob_b = binom(num_b, rate_b).pmf(clicks)\n",
        "\n",
        "plt.bar(clicks, prob_a, label=\"A\")\n",
        "plt.bar(clicks, prob_b, label=\"B\")\n",
        "plt.legend()\n",
        "plt.xlabel(\"Количество транзакций\"); plt.ylabel(\"Вероятность\");"
      ],
      "execution_count": 21,
      "outputs": [
        {
          "output_type": "display_data",
          "data": {
            "image/png": "[encoded data removed]",
            "text/plain": [
              "<Figure size 432x288 with 1 Axes>"
            ]
          },
          "metadata": {
            "tags": [],
            "needs_background": "light"
          }
        }
      ]
    },
    {
      "cell_type": "code",
      "metadata": {
        "id": "IPAEMXIoN5ry",
        "colab": {
          "base_uri": "https://localhost:8080/",
          "height": 279
        },
        "outputId": "f6e1f137-549c-4fdc-b90e-a293686fa8a4"
      },
      "source": [
        "from scipy.stats import norm\n",
        "\n",
        "std_a = np.sqrt(rate_a * (1 - rate_a) / num_a)\n",
        "std_b = np.sqrt(rate_b * (1 - rate_b) / num_b)\n",
        "\n",
        "click_rate = np.linspace(0.025, 0.075, 200)\n",
        "prob_a = norm(rate_a, std_a).pdf(click_rate)\n",
        "prob_b = norm(rate_b, std_b).pdf(click_rate)\n",
        "\n",
        "plt.plot(click_rate, prob_a, label=\"A\")\n",
        "plt.plot(click_rate, prob_b, label=\"B\")\n",
        "plt.legend(frameon=False)\n",
        "plt.xlabel(\"Процент транзакций\"); plt.ylabel(\"Вероятность\");"
      ],
      "execution_count": 22,
      "outputs": [
        {
          "output_type": "display_data",
          "data": {
            "image/png": "[encoded data removed]",
            "text/plain": [
              "<Figure size 432x288 with 1 Axes>"
            ]
          },
          "metadata": {
            "tags": [],
            "needs_background": "light"
          }
        }
      ]
    },
    {
      "cell_type": "markdown",
      "metadata": {
        "id": "dRWxpOmmOIKG"
      },
      "source": [
        "оценим p-value, z-score, статистическую мощность (statistical power)"
      ]
    },
    {
      "cell_type": "code",
      "metadata": {
        "id": "HD6Lz6RMOHl3",
        "colab": {
          "base_uri": "https://localhost:8080/",
          "height": 297
        },
        "outputId": "547aedd9-e20a-4744-a7ce-c7c0a9cc2fe5"
      },
      "source": [
        "z_score = (rate_b - rate_a) / np.sqrt(std_a**2 + std_b**2)\n",
        "p = norm(rate_b - rate_a, np.sqrt(std_a**2 + std_b**2))\n",
        "\n",
        "x = np.linspace(-0.035, 0.03, 1000)\n",
        "y = p.pdf(x)\n",
        "area_under_curve = p.sf(0)\n",
        "plt.plot(x, y, label=\"Вероятность\")\n",
        "plt.fill_between(x, 0, y, where=x>0, label=\"Вероятность(b>a)\", alpha=0.3)\n",
        "plt.annotate(f\"S={area_under_curve:0.3f}\", (0.02, 5))\n",
        "plt.legend()\n",
        "plt.xlabel(\"Разница в проценте транзакций\"); plt.ylabel(\"Функц. плот. вероятности\");\n",
        "\n",
        "print(f\"zscore = {z_score:0.3f}, p-value = {norm().sf(z_score):0.3f}\")"
      ],
      "execution_count": 23,
      "outputs": [
        {
          "output_type": "stream",
          "text": [
            "zscore = -0.742, p-value = 0.771\n"
          ],
          "name": "stdout"
        },
        {
          "output_type": "display_data",
          "data": {
            "image/png": "[encoded data removed]",
            "text/plain": [
              "<Figure size 432x288 with 1 Axes>"
            ]
          },
          "metadata": {
            "tags": [],
            "needs_background": "light"
          }
        }
      ]
    },
    {
      "cell_type": "markdown",
      "metadata": {
        "id": "ouez7eZxSKIH"
      },
      "source": [
        "можем увидеть что результат не является статистически значимым"
      ]
    },
    {
      "cell_type": "markdown",
      "metadata": {
        "id": "TTqhs5oA_2qP"
      },
      "source": [
        "**Являются ли эти различия статистически значимыми?**\n",
        "\n",
        "можем увидеть что процент юзеров с транзакциями в целевой группе меньше на 0.45%\n",
        "\n",
        "результат не является статистически значимым,\n",
        "процент пользователей с конверсиями практически не изменился **для данного размера выборки**"
      ]
    },
    {
      "cell_type": "markdown",
      "metadata": {
        "id": "NE08FSeYAKkC"
      },
      "source": [
        "**посмотрим на медианный и средний чек**"
      ]
    },
    {
      "cell_type": "code",
      "metadata": {
        "id": "oLjXMcPKALyz",
        "colab": {
          "base_uri": "https://localhost:8080/"
        },
        "outputId": "3607f5ec-c5f2-40dd-c3e5-2019cc81df71"
      },
      "source": [
        "active_studs_checks.groupby('grp').rev.median()"
      ],
      "execution_count": 24,
      "outputs": [
        {
          "output_type": "execute_result",
          "data": {
            "text/plain": [
              "grp\n",
              "A     585.0\n",
              "B    1140.0\n",
              "Name: rev, dtype: float64"
            ]
          },
          "metadata": {
            "tags": []
          },
          "execution_count": 24
        }
      ]
    },
    {
      "cell_type": "code",
      "metadata": {
        "id": "kXSeiAN-AOOK",
        "colab": {
          "base_uri": "https://localhost:8080/"
        },
        "outputId": "dad8f5c4-a590-48b0-e3af-ee4f2b6adca1"
      },
      "source": [
        "active_studs_checks.groupby('grp').rev.mean()"
      ],
      "execution_count": 25,
      "outputs": [
        {
          "output_type": "execute_result",
          "data": {
            "text/plain": [
              "grp\n",
              "A     933.589744\n",
              "B    1257.878992\n",
              "Name: rev, dtype: float64"
            ]
          },
          "metadata": {
            "tags": []
          },
          "execution_count": 25
        }
      ]
    },
    {
      "cell_type": "markdown",
      "metadata": {
        "id": "-qmMvbadAb5-"
      },
      "source": [
        "**Имеются ли различия в показателях и с чем они могут быть связаны?**\n",
        "\n",
        "Сумма медианного чека в контрольной группе выше почти в два раза!\n",
        "\n",
        "Это может быть связано с удобством новой системы оплаты... **но попробуем посмотреть внимательнее**"
      ]
    },
    {
      "cell_type": "markdown",
      "metadata": {
        "id": "to0eKDFaApvs"
      },
      "source": [
        "взглянем на распределение сумм по чекам для обеих групп\n"
      ]
    },
    {
      "cell_type": "code",
      "metadata": {
        "id": "JYH4VGtSAbmW",
        "colab": {
          "base_uri": "https://localhost:8080/",
          "height": 265
        },
        "outputId": "76064fb7-f3ff-455d-c4c0-7bdfe97504f6"
      },
      "source": [
        "act_a = active_studs_checks.loc[active_studs_checks['grp'] == 'A']\n",
        "plt.hist(act_a.rev,bins=30);"
      ],
      "execution_count": 26,
      "outputs": [
        {
          "output_type": "display_data",
          "data": {
            "image/png": "[encoded data removed]",
            "text/plain": [
              "<Figure size 432x288 with 1 Axes>"
            ]
          },
          "metadata": {
            "tags": [],
            "needs_background": "light"
          }
        }
      ]
    },
    {
      "cell_type": "markdown",
      "metadata": {
        "id": "XtOdcQ0zAz2X"
      },
      "source": [
        "среднее и медианное значения"
      ]
    },
    {
      "cell_type": "code",
      "metadata": {
        "id": "3UFU1X_8A0O2",
        "colab": {
          "base_uri": "https://localhost:8080/"
        },
        "outputId": "eb2c931a-a80e-40e1-c0a0-bc1021622c39"
      },
      "source": [
        "act_a.rev.mean()"
      ],
      "execution_count": 27,
      "outputs": [
        {
          "output_type": "execute_result",
          "data": {
            "text/plain": [
              "933.5897435897435"
            ]
          },
          "metadata": {
            "tags": []
          },
          "execution_count": 27
        }
      ]
    },
    {
      "cell_type": "code",
      "metadata": {
        "id": "dwMJjMcxA0Zl",
        "colab": {
          "base_uri": "https://localhost:8080/"
        },
        "outputId": "cbc5cd4e-8240-450c-f5ed-1af278473e2f"
      },
      "source": [
        "act_a.rev.median()"
      ],
      "execution_count": 28,
      "outputs": [
        {
          "output_type": "execute_result",
          "data": {
            "text/plain": [
              "585.0"
            ]
          },
          "metadata": {
            "tags": []
          },
          "execution_count": 28
        }
      ]
    },
    {
      "cell_type": "markdown",
      "metadata": {
        "id": "KpmdD4ZJA-hL"
      },
      "source": [
        "а теперь для целевой группы. на графике снизу можем видеть что на распределении есть значительные выбросы в районе значения 1900. Возможно это какие-то регулярные платежи"
      ]
    },
    {
      "cell_type": "code",
      "metadata": {
        "id": "0wF3e3IHBHsM",
        "colab": {
          "base_uri": "https://localhost:8080/",
          "height": 265
        },
        "outputId": "cb85843e-04f3-46f7-9142-7283fe381f94"
      },
      "source": [
        "act_b = active_studs_checks.loc[active_studs_checks['grp'] == 'B']\n",
        "plt.hist(act_b.rev,bins=30);"
      ],
      "execution_count": 29,
      "outputs": [
        {
          "output_type": "display_data",
          "data": {
            "image/png": "[encoded data removed]",
            "text/plain": [
              "<Figure size 432x288 with 1 Axes>"
            ]
          },
          "metadata": {
            "tags": [],
            "needs_background": "light"
          }
        }
      ]
    },
    {
      "cell_type": "markdown",
      "metadata": {
        "id": "B0o5o7CJBP8G"
      },
      "source": [
        "всего таких значений 128 из 314, более 40%"
      ]
    },
    {
      "cell_type": "code",
      "metadata": {
        "id": "CbviHe_oBMXv",
        "colab": {
          "base_uri": "https://localhost:8080/"
        },
        "outputId": "fec76f29-12af-4e11-9a56-51b257add6b1"
      },
      "source": [
        "act_b.rev.value_counts().head()"
      ],
      "execution_count": 30,
      "outputs": [
        {
          "output_type": "execute_result",
          "data": {
            "text/plain": [
              "1900.0000    93\n",
              "290.0000     45\n",
              "1900.0001    35\n",
              "199.0000     27\n",
              "840.0000     21\n",
              "Name: rev, dtype: int64"
            ]
          },
          "metadata": {
            "tags": []
          },
          "execution_count": 30
        }
      ]
    },
    {
      "cell_type": "markdown",
      "metadata": {
        "id": "BwTJOsxXBXuF"
      },
      "source": [
        "построим график распределения без этих значений"
      ]
    },
    {
      "cell_type": "code",
      "metadata": {
        "id": "mf76JoRNBUoM",
        "colab": {
          "base_uri": "https://localhost:8080/",
          "height": 265
        },
        "outputId": "2392f25f-a98e-4bd9-d066-c92fa6981c20"
      },
      "source": [
        "good_act_b = act_b[(act_b.rev != 1900.0000) & (act_b.rev != 1900.0001)]\n",
        "plt.hist(good_act_b.rev, bins=30);"
      ],
      "execution_count": 31,
      "outputs": [
        {
          "output_type": "display_data",
          "data": {
            "image/png": "[encoded data removed]",
            "text/plain": [
              "<Figure size 432x288 with 1 Axes>"
            ]
          },
          "metadata": {
            "tags": [],
            "needs_background": "light"
          }
        }
      ]
    },
    {
      "cell_type": "markdown",
      "metadata": {
        "id": "X_HuJK-kBePx"
      },
      "source": [
        "среднее и медианное значения без учета выбросов"
      ]
    },
    {
      "cell_type": "code",
      "metadata": {
        "id": "3CglgWJRBf1x",
        "colab": {
          "base_uri": "https://localhost:8080/"
        },
        "outputId": "5f5a1809-cd44-4179-d344-4a783c0dc9c3"
      },
      "source": [
        "good_act_b.rev.mean()"
      ],
      "execution_count": 32,
      "outputs": [
        {
          "output_type": "execute_result",
          "data": {
            "text/plain": [
              "815.989247311828"
            ]
          },
          "metadata": {
            "tags": []
          },
          "execution_count": 32
        }
      ]
    },
    {
      "cell_type": "code",
      "metadata": {
        "id": "TdQhObf_Bhvu",
        "colab": {
          "base_uri": "https://localhost:8080/"
        },
        "outputId": "4c3408c2-7f96-45a6-b052-55b89f3b52b9"
      },
      "source": [
        "good_act_b.rev.median()"
      ],
      "execution_count": 33,
      "outputs": [
        {
          "output_type": "execute_result",
          "data": {
            "text/plain": [
              "690.0"
            ]
          },
          "metadata": {
            "tags": []
          },
          "execution_count": 33
        }
      ]
    },
    {
      "cell_type": "code",
      "metadata": {
        "id": "aP3F6-xETQUR",
        "colab": {
          "base_uri": "https://localhost:8080/",
          "height": 265
        },
        "outputId": "4c5ac2f5-fa42-45cd-eda6-bf09a60e47b0"
      },
      "source": [
        "plt.hist(good_act_b.rev, bins = 30)\n",
        "plt.hist(act_a.rev, bins=30);"
      ],
      "execution_count": 34,
      "outputs": [
        {
          "output_type": "display_data",
          "data": {
            "image/png": "[encoded data removed]",
            "text/plain": [
              "<Figure size 432x288 with 1 Axes>"
            ]
          },
          "metadata": {
            "tags": [],
            "needs_background": "light"
          }
        }
      ]
    },
    {
      "cell_type": "markdown",
      "metadata": {
        "id": "7SmagpSgB0M8"
      },
      "source": [
        "можем увидеть что для контрольной группы А медианное значение 585 и 690 для В\n",
        "\n",
        "что говорит о том, что двукратного преимущества у одной группы над другой нет, как показалось сначала\n",
        "\n",
        "мединное значение более устойчиво к выбросам, поэтому я оценивал именно его\n"
      ]
    },
    {
      "cell_type": "code",
      "metadata": {
        "id": "FP10mldeVVbE",
        "colab": {
          "base_uri": "https://localhost:8080/"
        },
        "outputId": "3d628e56-c241-4daf-f369-6516f5069f9b"
      },
      "source": [
        "(good_act_b.rev.median()-act_a.rev.median())*100/act_a.rev.median()"
      ],
      "execution_count": 35,
      "outputs": [
        {
          "output_type": "execute_result",
          "data": {
            "text/plain": [
              "17.94871794871795"
            ]
          },
          "metadata": {
            "tags": []
          },
          "execution_count": 35
        }
      ]
    },
    {
      "cell_type": "markdown",
      "metadata": {
        "id": "PmLbDALtUca4"
      },
      "source": [
        "тем не менее медианный чек для целевой группы больше на 18%. поэтому если перенастроить тест (взять примерно равные группы, получить большее количество данных о конверсиях, чтобы результаты получились стат занчимыми), то скорее всего результаты теста будут положительные и можно будет ввести новую механику"
      ]
    }
  ]
}